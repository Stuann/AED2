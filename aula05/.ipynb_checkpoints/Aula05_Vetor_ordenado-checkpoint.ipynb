{
 "cells": [
  {
   "cell_type": "markdown",
   "metadata": {},
   "source": [
    "![Algoritmos e Estrutura de Dados II - Prof Piva](AED2_banner.jpg)"
   ]
  },
  {
   "cell_type": "markdown",
   "metadata": {
    "id": "3L3hMZxPloS9"
   },
   "source": [
    "## Aula 5 - Vetor ordenado (busca binária)"
   ]
  },
  {
   "cell_type": "markdown",
   "metadata": {},
   "source": [
    "### Primeira Implementação (sem OO)"
   ]
  },
  {
   "cell_type": "markdown",
   "metadata": {},
   "source": [
    "Problema: buscar um valor v em uma lista sequencial ordenada com N elementos\n",
    "\n",
    "- o tempo de busca pode ser reduzido significantemente devido a relação entre os elementos da lista\n",
    "- mesmo para um conjunto de elementos é grande"
   ]
  },
  {
   "cell_type": "code",
   "execution_count": 1,
   "metadata": {},
   "outputs": [],
   "source": [
    "def busca_binaria(v, lista_ord):\n",
    "    esquerda = 0\n",
    "    direita = len(lista_ord) - 1\n",
    "    while esquerda <= direita:\n",
    "        meio = (esquerda + direita) // 2\n",
    "        if v == lista_ord[meio]:\n",
    "            return meio\n",
    "        elif v < lista_ord[meio]:\n",
    "            direita = meio - 1\n",
    "        else:\n",
    "            esquerda = meio + 1\n",
    "    return -1"
   ]
  },
  {
   "cell_type": "code",
   "execution_count": 2,
   "metadata": {},
   "outputs": [
    {
     "name": "stdout",
     "output_type": "stream",
     "text": [
      "O valor 7 foi encontrado na posição 6 !\n"
     ]
    }
   ],
   "source": [
    "# TESTANDO\n",
    "lista = [1, 2, 3, 4, 5, 6, 7, 8, 9, 10, 11, 12, 13]\n",
    "i = busca_binaria(7, lista)\n",
    "if i != -1:\n",
    "    print(f\"O valor {lista[i]} foi encontrado na posição {i} !\")\n",
    "else:\n",
    "    print(\"O valor não foi encontrado!\")"
   ]
  },
  {
   "cell_type": "code",
   "execution_count": 3,
   "metadata": {},
   "outputs": [
    {
     "name": "stdout",
     "output_type": "stream",
     "text": [
      "o numero nao se encontra no intervalo \n"
     ]
    }
   ],
   "source": [
    "i = busca_binaria(20, lista)\n",
    "if i == -1:\n",
    "    print(\"o numero nao se encontra no intervalo \")"
   ]
  },
  {
   "cell_type": "code",
   "execution_count": 4,
   "metadata": {},
   "outputs": [
    {
     "name": "stdout",
     "output_type": "stream",
     "text": [
      "O valor não foi encontrado!\n"
     ]
    }
   ],
   "source": [
    "# TESTANDO\n",
    "lista = [1, 2, 3, 4, 5, 6, 7, 8, 9, 10, 11, 12, 13]\n",
    "i = busca_binaria(27, lista)\n",
    "if i != -1:\n",
    "    print(f\"O valor {lista[i]} foi encontrado na posição {i} !\")\n",
    "else:\n",
    "    print(\"O valor não foi encontrado!\")"
   ]
  },
  {
   "cell_type": "markdown",
   "metadata": {},
   "source": [
    "### Segunda Implementação (com OO)"
   ]
  },
  {
   "cell_type": "code",
   "execution_count": 5,
   "metadata": {
    "id": "ilKOzbksUosx"
   },
   "outputs": [],
   "source": [
    "import numpy as np"
   ]
  },
  {
   "cell_type": "code",
   "execution_count": 6,
   "metadata": {
    "id": "EI9-ginDUr7z"
   },
   "outputs": [],
   "source": [
    "class VetorOrdenado:\n",
    "\n",
    "  def __init__(self, capacidade): # __init__ é um metodo construtor que aloca a instanciação de um objeto função na memória.\n",
    "    self.capacidade = capacidade\n",
    "    self.ultima_posicao = -1\n",
    "    self.valores = np.empty(self.capacidade, dtype=int)\n",
    "\n",
    "  # O(n)\n",
    "  def imprime(self): # imprime e um metodo dentro da classe que imprime os elementos do vetor.\n",
    "    if self.ultima_posicao == -1:\n",
    "      print('O vetor está vazio')\n",
    "    else:\n",
    "      for i in range(self.ultima_posicao + 1):\n",
    "        print(i, ' - ', self.valores[i])\n",
    "\n",
    "  # O(n)\n",
    "  def insere(self, valor):\n",
    "    if self.ultima_posicao == self.capacidade - 1:\n",
    "      print('Capacidade máxima atingida')\n",
    "      return\n",
    "\n",
    "    posicao = 0\n",
    "    for i in range(self.ultima_posicao + 1):\n",
    "      posicao = i\n",
    "      if self.valores[i] > valor:\n",
    "        break\n",
    "      if i == self.ultima_posicao:\n",
    "        posicao = i + 1\n",
    "\n",
    "    x = self.ultima_posicao\n",
    "    while x >= posicao:\n",
    "      self.valores[x + 1] = self.valores[x]\n",
    "      x -= 1\n",
    "\n",
    "    self.valores[posicao] = valor\n",
    "    self.ultima_posicao += 1\n",
    "    #O(n**2)\n",
    "  def insere_lista (self, lista):\n",
    "      for i in range (len(lista)-1):\n",
    "          self.insere(lista[i])\n",
    "          "
   ]
  },
  {
   "cell_type": "code",
   "execution_count": 7,
   "metadata": {
    "colab": {
     "base_uri": "https://localhost:8080/",
     "height": 55
    },
    "id": "stsNs_K8nn4r",
    "outputId": "0cceb095-520f-43ac-b7d6-a75bfbfd6c03"
   },
   "outputs": [
    {
     "name": "stdout",
     "output_type": "stream",
     "text": [
      "O vetor está vazio\n"
     ]
    }
   ],
   "source": [
    "vetor = VetorOrdenado(200)\n",
    "vetor.imprime()"
   ]
  },
  {
   "cell_type": "code",
   "execution_count": 8,
   "metadata": {
    "colab": {
     "base_uri": "https://localhost:8080/",
     "height": 55
    },
    "id": "6OQR86hMnr74",
    "outputId": "24a67306-41ea-43cb-cb91-c2325a9eccef"
   },
   "outputs": [
    {
     "name": "stdout",
     "output_type": "stream",
     "text": [
      "0  -  6\n"
     ]
    }
   ],
   "source": [
    "vetor.insere(6)\n",
    "vetor.imprime()"
   ]
  },
  {
   "cell_type": "code",
   "execution_count": 9,
   "metadata": {},
   "outputs": [],
   "source": [
    "l=[1,14,15,45,56,99]\n",
    "vetor.insere_lista(l)"
   ]
  },
  {
   "cell_type": "code",
   "execution_count": 10,
   "metadata": {
    "colab": {
     "base_uri": "https://localhost:8080/",
     "height": 72
    },
    "id": "2SD9iJjrnzpB",
    "outputId": "90c4d2d2-0890-4c55-81a6-fa6f285fbf6e"
   },
   "outputs": [
    {
     "name": "stdout",
     "output_type": "stream",
     "text": [
      "0  -  1\n",
      "1  -  4\n",
      "2  -  6\n",
      "3  -  14\n",
      "4  -  15\n",
      "5  -  45\n",
      "6  -  56\n"
     ]
    }
   ],
   "source": [
    "vetor.insere(4)\n",
    "vetor.imprime()"
   ]
  },
  {
   "cell_type": "code",
   "execution_count": 11,
   "metadata": {
    "colab": {
     "base_uri": "https://localhost:8080/",
     "height": 90
    },
    "id": "UZiJuluyn4iq",
    "outputId": "a1139beb-1972-4002-8271-423437eb14f0"
   },
   "outputs": [
    {
     "name": "stdout",
     "output_type": "stream",
     "text": [
      "0  -  1\n",
      "1  -  3\n",
      "2  -  4\n",
      "3  -  6\n",
      "4  -  14\n",
      "5  -  15\n",
      "6  -  45\n",
      "7  -  56\n"
     ]
    }
   ],
   "source": [
    "vetor.insere(3)\n",
    "vetor.imprime()"
   ]
  },
  {
   "cell_type": "code",
   "execution_count": 12,
   "metadata": {
    "colab": {
     "base_uri": "https://localhost:8080/",
     "height": 108
    },
    "id": "-EtyqP3ln--6",
    "outputId": "f144630e-aefb-4e49-f7d3-b216acb9d6ad"
   },
   "outputs": [
    {
     "name": "stdout",
     "output_type": "stream",
     "text": [
      "0  -  1\n",
      "1  -  3\n",
      "2  -  4\n",
      "3  -  5\n",
      "4  -  6\n",
      "5  -  14\n",
      "6  -  15\n",
      "7  -  45\n",
      "8  -  56\n"
     ]
    }
   ],
   "source": [
    "vetor.insere(5)\n",
    "vetor.imprime()"
   ]
  },
  {
   "cell_type": "code",
   "execution_count": 13,
   "metadata": {
    "colab": {
     "base_uri": "https://localhost:8080/",
     "height": 125
    },
    "id": "Ij44GQWRoE8-",
    "outputId": "1afbfa5b-7a32-4695-db4b-a95890504ba3"
   },
   "outputs": [
    {
     "name": "stdout",
     "output_type": "stream",
     "text": [
      "0  -  1\n",
      "1  -  1\n",
      "2  -  3\n",
      "3  -  4\n",
      "4  -  5\n",
      "5  -  6\n",
      "6  -  14\n",
      "7  -  15\n",
      "8  -  45\n",
      "9  -  56\n"
     ]
    }
   ],
   "source": [
    "vetor.insere(1)\n",
    "vetor.imprime()"
   ]
  },
  {
   "cell_type": "code",
   "execution_count": 14,
   "metadata": {
    "colab": {
     "base_uri": "https://localhost:8080/",
     "height": 143
    },
    "id": "PHQuMp8aoKX3",
    "outputId": "70c5c040-7c42-4fa8-8cba-92793d0e7296"
   },
   "outputs": [
    {
     "name": "stdout",
     "output_type": "stream",
     "text": [
      "0  -  1\n",
      "1  -  1\n",
      "2  -  3\n",
      "3  -  4\n",
      "4  -  5\n",
      "5  -  6\n",
      "6  -  8\n",
      "7  -  14\n",
      "8  -  15\n",
      "9  -  45\n",
      "10  -  56\n"
     ]
    }
   ],
   "source": [
    "vetor.insere(8)\n",
    "vetor.imprime()"
   ]
  },
  {
   "cell_type": "markdown",
   "metadata": {},
   "source": [
    "## Fim Aula 5"
   ]
  },
  {
   "cell_type": "code",
   "execution_count": 15,
   "metadata": {},
   "outputs": [],
   "source": [
    "# 1 - peça para o usuario digitar os valores(inteiros). (-1)\n",
    "# 2- os valores devem ser guardados dentro de uma lista(vetor) chamada de (lista)\n",
    "\n",
    "# ------------------------------ celula 1 -----------------------------------------\n",
    "\n",
    "# 3 - ordene essa lista utilizando a função sort().\n",
    "\n",
    "# ------------------------------ celula 2 -----------------------------------------\n",
    "\n",
    "\n",
    "# 4 - pergunte ao usuario qual valor quer procurar e retorne a posição do valor <-- ( utilize a função busca binaria) se encontrado ou -1 se nao encontrado.\n",
    "\n",
    "\n",
    "\n",
    "\n"
   ]
  },
  {
   "cell_type": "code",
   "execution_count": 16,
   "metadata": {},
   "outputs": [
    {
     "name": "stdin",
     "output_type": "stream",
     "text": [
      "Digite um valor inteiro (-1 para terminar):  34\n",
      "Digite um valor inteiro (-1 para terminar):  -1\n"
     ]
    },
    {
     "name": "stdout",
     "output_type": "stream",
     "text": [
      "Lista ordenada: [34]\n"
     ]
    },
    {
     "name": "stdin",
     "output_type": "stream",
     "text": [
      "Digite o valor que deseja procurar:  33\n"
     ]
    },
    {
     "name": "stdout",
     "output_type": "stream",
     "text": [
      "O valor 33 não foi encontrado na lista.\n"
     ]
    }
   ],
   "source": [
    "def coleta_valores():\n",
    "    valores = []\n",
    "    while True:\n",
    "        try:\n",
    "            valor = int(input(\"Digite um valor inteiro (-1 para terminar): \"))\n",
    "            if valor == -1:\n",
    "                break\n",
    "            valores.append(valor)\n",
    "        except ValueError:\n",
    "            print(\"Por favor, digite um valor inteiro válido.\")\n",
    "    return valores\n",
    "\n",
    "def ordenar_lista(lista):\n",
    "    lista.sort()\n",
    "\n",
    "def busca_binaria(lista, valor):\n",
    "    esquerda = 0\n",
    "    direita = len(lista) - 1\n",
    "    \n",
    "    while esquerda <= direita:\n",
    "        meio = (esquerda + direita) // 2\n",
    "        if lista[meio] == valor:\n",
    "            return meio\n",
    "        elif lista[meio] < valor:\n",
    "            esquerda = meio + 1\n",
    "        else:\n",
    "            direita = meio - 1\n",
    "    \n",
    "    return -1\n",
    "\n",
    "def main():\n",
    "    # Coletar valores\n",
    "    lista = coleta_valores()\n",
    "    \n",
    "    # Ordenar a lista\n",
    "    ordenar_lista(lista)\n",
    "    \n",
    "    # Mostrar lista ordenada\n",
    "    print(\"Lista ordenada:\", lista)\n",
    "    \n",
    "    # Procurar valor\n",
    "    try:\n",
    "        valor_procurado = int(input(\"Digite o valor que deseja procurar: \"))\n",
    "        posicao = busca_binaria(lista, valor_procurado)\n",
    "        \n",
    "        if posicao != -1:\n",
    "            print(f\"O valor {valor_procurado} foi encontrado na posição {posicao}.\")\n",
    "        else:\n",
    "            print(f\"O valor {valor_procurado} não foi encontrado na lista.\")\n",
    "    except ValueError:\n",
    "        print(\"Por favor, insira um valor inteiro válido.\")\n",
    "\n",
    "if __name__ == \"__main__\":\n",
    "    main()\n"
   ]
  },
  {
   "cell_type": "code",
   "execution_count": null,
   "metadata": {},
   "outputs": [],
   "source": [
    "# outra forma "
   ]
  },
  {
   "cell_type": "code",
   "execution_count": 18,
   "metadata": {},
   "outputs": [
    {
     "name": "stdout",
     "output_type": "stream",
     "text": [
      " Digite os valores inteiros abaixo e -1 para finalizar\n"
     ]
    },
    {
     "name": "stdin",
     "output_type": "stream",
     "text": [
      "valor[0] =  1\n",
      "valor[1] =  2\n",
      "valor[2] =  4\n",
      "valor[3] =  5\n",
      "valor[4] =  6\n",
      "valor[5] =  7\n",
      "valor[6] =  8\n",
      "valor[7] =  -1\n"
     ]
    }
   ],
   "source": [
    "vetor = []\n",
    "print(\" Digite os valores inteiros abaixo e -1 para finalizar\")\n",
    "i = 0\n",
    "while (True):\n",
    "    v = int(input(f\"valor[{i}] = \"))\n",
    "    if v == -1 :\n",
    "        break\n",
    "    else:\n",
    "        vetor.append(v)\n",
    "        i += 1 "
   ]
  },
  {
   "cell_type": "code",
   "execution_count": 19,
   "metadata": {},
   "outputs": [
    {
     "name": "stdout",
     "output_type": "stream",
     "text": [
      "[1, 2, 4, 5, 6, 7, 8]\n"
     ]
    }
   ],
   "source": [
    "vetor.sort()  # tem a opcao de utilizar o sorted(vetor) no entanto ele nao ordena o vetor, apenas mostra o vetor ordenado no display\n",
    "print(vetor)"
   ]
  },
  {
   "cell_type": "code",
   "execution_count": null,
   "metadata": {},
   "outputs": [],
   "source": [
    "valor = int(input(\" Digite o valor de busca: \"))\n",
    "indice = busca_binaria(valor, vetor)\n",
    "if indice == -1:\n",
    "    print(\"Valor não encontrado !\")\n",
    "else:\n",
    "    print(f\" O valor {valor} está na posição {indice}!\")"
   ]
  },
  {
   "cell_type": "code",
   "execution_count": null,
   "metadata": {},
   "outputs": [],
   "source": []
  }
 ],
 "metadata": {
  "colab": {
   "provenance": []
  },
  "kernelspec": {
   "display_name": "Python 3 (ipykernel)",
   "language": "python",
   "name": "python3"
  },
  "language_info": {
   "codemirror_mode": {
    "name": "ipython",
    "version": 3
   },
   "file_extension": ".py",
   "mimetype": "text/x-python",
   "name": "python",
   "nbconvert_exporter": "python",
   "pygments_lexer": "ipython3",
   "version": "3.12.4"
  }
 },
 "nbformat": 4,
 "nbformat_minor": 4
}
