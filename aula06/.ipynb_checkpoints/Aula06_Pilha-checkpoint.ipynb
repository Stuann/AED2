{
 "cells": [
  {
   "cell_type": "markdown",
   "metadata": {},
   "source": [
    "![Algoritmos e Estrutura de Dados II - Prof Piva](AED2_banner.jpg)"
   ]
  },
  {
   "cell_type": "markdown",
   "metadata": {
    "id": "3L3hMZxPloS9"
   },
   "source": [
    "## Aula 6 - Pilhas"
   ]
  },
  {
   "cell_type": "markdown",
   "metadata": {},
   "source": [
    "### Primeira Implementação"
   ]
  },
  {
   "cell_type": "code",
   "execution_count": 3,
   "metadata": {},
   "outputs": [],
   "source": [
    "# Implementacao da classe Pilha\n",
    "class Stack:\n",
    "    # Inicia com uma pilha vazia\n",
    "    def __init__(self):\n",
    "        self.itens = []\n",
    "    \n",
    "# Verifica se pilha esta vazia\n",
    "    def is_empty(self):\n",
    "        return self.itens == []\n",
    "    \n",
    "    # Adiciona elemento no topo (topo e o final da lista)\n",
    "    def push(self, item):\n",
    "        self.itens.append(item)\n",
    "        print(f\"PUSH {item}\")\n",
    "\n",
    "    # Remove elemento do topo (final da lista)\n",
    "    def pop(self):\n",
    "        print(\"POP\")\n",
    "        return self.itens.pop()\n",
    "    \n",
    "    # Obtem o elemento do topo (mas nao remove)\n",
    "    def peek(self):\n",
    "    # Em Python, indice -1 retorna ultimo elemento (topo)\n",
    "        return self.itens[-1]\n",
    "    \n",
    "    # Retorna o numero de elementos da pilha\n",
    "    def size(self):\n",
    "        return len(self.itens)\n",
    "    \n",
    "    # Imprime pilha na tela\n",
    "    def print_stack(self):\n",
    "        print(self.itens)"
   ]
  },
  {
   "cell_type": "code",
   "execution_count": 4,
   "metadata": {},
   "outputs": [
    {
     "ename": "NameError",
     "evalue": "name 'S' is not defined",
     "output_type": "error",
     "traceback": [
      "\u001b[1;31m---------------------------------------------------------------------------\u001b[0m",
      "\u001b[1;31mNameError\u001b[0m                                 Traceback (most recent call last)",
      "Cell \u001b[1;32mIn[4], line 1\u001b[0m\n\u001b[1;32m----> 1\u001b[0m S\u001b[38;5;241m.\u001b[39mprint_stack()\n",
      "\u001b[1;31mNameError\u001b[0m: name 'S' is not defined"
     ]
    }
   ],
   "source": [
    "S.print_stack()"
   ]
  },
  {
   "cell_type": "code",
   "execution_count": 5,
   "metadata": {},
   "outputs": [
    {
     "ename": "NameError",
     "evalue": "name 'S' is not defined",
     "output_type": "error",
     "traceback": [
      "\u001b[1;31m---------------------------------------------------------------------------\u001b[0m",
      "\u001b[1;31mNameError\u001b[0m                                 Traceback (most recent call last)",
      "Cell \u001b[1;32mIn[5], line 1\u001b[0m\n\u001b[1;32m----> 1\u001b[0m S\u001b[38;5;241m.\u001b[39mpush(\u001b[38;5;241m1\u001b[39m)\n",
      "\u001b[1;31mNameError\u001b[0m: name 'S' is not defined"
     ]
    }
   ],
   "source": [
    "S.push(1)"
   ]
  },
  {
   "cell_type": "code",
   "execution_count": 6,
   "metadata": {},
   "outputs": [],
   "source": [
    "# TESTANDO\n",
    "S = Stack()"
   ]
  },
  {
   "cell_type": "code",
   "execution_count": 7,
   "metadata": {},
   "outputs": [
    {
     "name": "stdout",
     "output_type": "stream",
     "text": [
      "PUSH 2\n"
     ]
    }
   ],
   "source": [
    "S.push(2)"
   ]
  },
  {
   "cell_type": "code",
   "execution_count": 8,
   "metadata": {},
   "outputs": [
    {
     "name": "stdout",
     "output_type": "stream",
     "text": [
      "PUSH 3\n"
     ]
    }
   ],
   "source": [
    "S.push(3)"
   ]
  },
  {
   "cell_type": "code",
   "execution_count": 9,
   "metadata": {},
   "outputs": [
    {
     "name": "stdout",
     "output_type": "stream",
     "text": [
      "[2, 3]\n"
     ]
    }
   ],
   "source": [
    "S.print_stack()"
   ]
  },
  {
   "cell_type": "code",
   "execution_count": 10,
   "metadata": {},
   "outputs": [
    {
     "name": "stdout",
     "output_type": "stream",
     "text": [
      "POP\n"
     ]
    },
    {
     "data": {
      "text/plain": [
       "3"
      ]
     },
     "execution_count": 10,
     "metadata": {},
     "output_type": "execute_result"
    }
   ],
   "source": [
    "S.pop()"
   ]
  },
  {
   "cell_type": "code",
   "execution_count": 11,
   "metadata": {},
   "outputs": [
    {
     "name": "stdout",
     "output_type": "stream",
     "text": [
      "POP\n"
     ]
    },
    {
     "data": {
      "text/plain": [
       "2"
      ]
     },
     "execution_count": 11,
     "metadata": {},
     "output_type": "execute_result"
    }
   ],
   "source": [
    "S.pop()"
   ]
  },
  {
   "cell_type": "code",
   "execution_count": 12,
   "metadata": {},
   "outputs": [
    {
     "name": "stdout",
     "output_type": "stream",
     "text": [
      "[]\n"
     ]
    }
   ],
   "source": [
    "S.print_stack()"
   ]
  },
  {
   "cell_type": "code",
   "execution_count": 13,
   "metadata": {},
   "outputs": [
    {
     "name": "stdout",
     "output_type": "stream",
     "text": [
      "PUSH 7\n"
     ]
    }
   ],
   "source": [
    "S.push(7)"
   ]
  },
  {
   "cell_type": "code",
   "execution_count": 14,
   "metadata": {},
   "outputs": [
    {
     "name": "stdout",
     "output_type": "stream",
     "text": [
      "PUSH 8\n"
     ]
    }
   ],
   "source": [
    "S.push(8)"
   ]
  },
  {
   "cell_type": "code",
   "execution_count": 15,
   "metadata": {},
   "outputs": [
    {
     "name": "stdout",
     "output_type": "stream",
     "text": [
      "PUSH 9\n"
     ]
    }
   ],
   "source": [
    "S.push(9)"
   ]
  },
  {
   "cell_type": "code",
   "execution_count": 16,
   "metadata": {},
   "outputs": [
    {
     "name": "stdout",
     "output_type": "stream",
     "text": [
      "[7, 8, 9]\n"
     ]
    }
   ],
   "source": [
    "S.print_stack()"
   ]
  },
  {
   "cell_type": "code",
   "execution_count": 17,
   "metadata": {},
   "outputs": [
    {
     "name": "stdout",
     "output_type": "stream",
     "text": [
      "False\n"
     ]
    }
   ],
   "source": [
    "print(S.is_empty())"
   ]
  },
  {
   "cell_type": "markdown",
   "metadata": {},
   "source": [
    "### Segunda Implementação"
   ]
  },
  {
   "cell_type": "code",
   "execution_count": 18,
   "metadata": {
    "id": "7R1oTn1dqV1l"
   },
   "outputs": [],
   "source": [
    "import numpy as np"
   ]
  },
  {
   "cell_type": "code",
   "execution_count": 19,
   "metadata": {
    "id": "uTsNap9FqYXN"
   },
   "outputs": [],
   "source": [
    "class Pilha:\n",
    "    def __init__(self, capacidade):\n",
    "        self.__capacidade = capacidade\n",
    "        self.__topo = -1\n",
    "        self.__valores = np.zeros(self.__capacidade, dtype=int)\n",
    "\n",
    "    def __pilha_cheia(self):\n",
    "        if self.__topo == self.__capacidade - 1:\n",
    "            return True\n",
    "        else:\n",
    "            return False\n",
    "    \n",
    "    def __pilha_vazia(self):\n",
    "        if self.__topo == -1:\n",
    "            return True\n",
    "        else:\n",
    "            return False\n",
    "    \n",
    "    def empilhar(self, valor):\n",
    "        if self.__pilha_cheia():\n",
    "            print('A pilha está cheia')\n",
    "        else:\n",
    "            self.__topo += 1\n",
    "            self.__valores[self.__topo] = valor\n",
    "    \n",
    "    def desempilhar(self):\n",
    "        if self.__pilha_vazia():\n",
    "            print('A pilha está vazia')\n",
    "        else:\n",
    "            self.__valores[self.__topo] = 0\n",
    "            self.__topo -= 1\n",
    "    \n",
    "    def ver_topo(self):\n",
    "        if self.__topo != -1:\n",
    "            return self.__valores[self.__topo]\n",
    "        else:\n",
    "            return -1\n",
    "    \n",
    "    # Imprime pilha na tela\n",
    "    def imprime_pilha(self):\n",
    "        print(self.__valores)"
   ]
  },
  {
   "cell_type": "code",
   "execution_count": null,
   "metadata": {
    "id": "QtWvabeOq-0U"
   },
   "outputs": [],
   "source": [
    "pilha = Pilha(5)"
   ]
  },
  {
   "cell_type": "code",
   "execution_count": null,
   "metadata": {},
   "outputs": [],
   "source": [
    "pilha.imprime_pilha()"
   ]
  },
  {
   "cell_type": "code",
   "execution_count": null,
   "metadata": {
    "colab": {
     "base_uri": "https://localhost:8080/",
     "height": 55
    },
    "id": "MNlDMfOHrCRL",
    "outputId": "7ab89260-93e2-4f48-8931-6d9738c1e19a"
   },
   "outputs": [],
   "source": [
    "pilha.ver_topo()"
   ]
  },
  {
   "cell_type": "code",
   "execution_count": null,
   "metadata": {
    "colab": {
     "base_uri": "https://localhost:8080/",
     "height": 55
    },
    "id": "LPneWEkaspzr",
    "outputId": "382175e0-1c18-4517-8aaa-a64f4a2f5297"
   },
   "outputs": [],
   "source": [
    "pilha.empilhar(1)\n",
    "pilha.ver_topo()"
   ]
  },
  {
   "cell_type": "code",
   "execution_count": null,
   "metadata": {
    "id": "DESk3CzKs3Jr"
   },
   "outputs": [],
   "source": [
    "pilha.empilhar(1)\n",
    "pilha.empilhar(2)\n",
    "pilha.empilhar(3)\n",
    "pilha.empilhar(4)"
   ]
  },
  {
   "cell_type": "code",
   "execution_count": null,
   "metadata": {},
   "outputs": [],
   "source": [
    "pilha.imprime_pilha()"
   ]
  },
  {
   "cell_type": "code",
   "execution_count": null,
   "metadata": {
    "colab": {
     "base_uri": "https://localhost:8080/",
     "height": 55
    },
    "id": "ggPHGUVqs6oi",
    "outputId": "fb8b8854-d995-49c5-c71d-11001cf569cd"
   },
   "outputs": [],
   "source": [
    "pilha.empilhar(6)"
   ]
  },
  {
   "cell_type": "code",
   "execution_count": null,
   "metadata": {
    "colab": {
     "base_uri": "https://localhost:8080/",
     "height": 55
    },
    "id": "RhoPtGMOs_XH",
    "outputId": "c858ad80-9fef-4506-ff7f-6ff211dfa2c1"
   },
   "outputs": [],
   "source": [
    "pilha.ver_topo()"
   ]
  },
  {
   "cell_type": "code",
   "execution_count": null,
   "metadata": {
    "id": "5HWGcf7BtE8G"
   },
   "outputs": [],
   "source": [
    "pilha.desempilhar()"
   ]
  },
  {
   "cell_type": "code",
   "execution_count": null,
   "metadata": {
    "colab": {
     "base_uri": "https://localhost:8080/",
     "height": 55
    },
    "id": "wfmWii0UtHPG",
    "outputId": "3a1a9ca0-0a67-4764-9c93-a1db47951afb"
   },
   "outputs": [],
   "source": [
    "pilha.ver_topo()"
   ]
  },
  {
   "cell_type": "code",
   "execution_count": null,
   "metadata": {
    "id": "2UKSXChKtMbj"
   },
   "outputs": [],
   "source": [
    "pilha.desempilhar()\n",
    "pilha.desempilhar()\n",
    "pilha.desempilhar()"
   ]
  },
  {
   "cell_type": "code",
   "execution_count": null,
   "metadata": {
    "colab": {
     "base_uri": "https://localhost:8080/",
     "height": 55
    },
    "id": "Vmi31QQUtTJO",
    "outputId": "7af8c276-9f04-4d31-937d-575e24205995"
   },
   "outputs": [],
   "source": [
    "pilha.ver_topo()"
   ]
  },
  {
   "cell_type": "code",
   "execution_count": null,
   "metadata": {},
   "outputs": [],
   "source": [
    "pilha.imprime_pilha()"
   ]
  },
  {
   "cell_type": "code",
   "execution_count": null,
   "metadata": {
    "colab": {
     "base_uri": "https://localhost:8080/",
     "height": 55
    },
    "id": "fTia1ivdtei2",
    "outputId": "b1306403-9418-4a41-ecd2-388c8722d4b0"
   },
   "outputs": [],
   "source": [
    "pilha.desempilhar()"
   ]
  },
  {
   "cell_type": "code",
   "execution_count": null,
   "metadata": {},
   "outputs": [],
   "source": [
    "pilha.imprime_pilha()"
   ]
  },
  {
   "cell_type": "code",
   "execution_count": null,
   "metadata": {},
   "outputs": [],
   "source": [
    "pilha.desempilhar()"
   ]
  },
  {
   "cell_type": "markdown",
   "metadata": {},
   "source": [
    "# Vamos à Prática!\n",
    "## Exercício"
   ]
  },
  {
   "cell_type": "markdown",
   "metadata": {},
   "source": [
    "Utilização de pilhas para conversão de números inteiros em decimal para binário (método da divisão sucessiva por 2)."
   ]
  },
  {
   "cell_type": "markdown",
   "metadata": {},
   "source": [
    "**Utilização do classe Stack..**"
   ]
  },
  {
   "cell_type": "code",
   "execution_count": 51,
   "metadata": {},
   "outputs": [],
   "source": [
    "# Função que converte um número decimal para binário\n",
    "def converte_binario(decimal):\n",
    " s = Stack()\n",
    " while decimal > 0:\n",
    "     resto = decimal % 2\n",
    "     s.push(resto)\n",
    "     decimal = decimal // 2\n",
    " binario = ''\n",
    " while not s.is_empty():\n",
    "     binario = binario + str(s.pop())\n",
    " return binario"
   ]
  },
  {
   "cell_type": "code",
   "execution_count": 56,
   "metadata": {},
   "outputs": [
    {
     "name": "stdin",
     "output_type": "stream",
     "text": [
      "digite um valor inteiro para ser convertido para binario 1010\n"
     ]
    },
    {
     "name": "stdout",
     "output_type": "stream",
     "text": [
      "PUSH 0\n",
      "PUSH 1\n",
      "PUSH 0\n",
      "PUSH 0\n",
      "PUSH 1\n",
      "PUSH 1\n",
      "PUSH 1\n",
      "PUSH 1\n",
      "PUSH 1\n",
      "PUSH 1\n",
      "POP\n",
      "POP\n",
      "POP\n",
      "POP\n",
      "POP\n",
      "POP\n",
      "POP\n",
      "POP\n",
      "POP\n",
      "POP\n",
      "O valor : 1010 convertido é 1111110010\n"
     ]
    }
   ],
   "source": [
    "valor = int(input(\"digite um valor inteiro para ser convertido para binario\"))\n",
    "print(f\"O valor : {valor} convertido é {converte_binario(valor)}\")"
   ]
  },
  {
   "cell_type": "markdown",
   "metadata": {},
   "source": [
    "### Testando!\n",
    "233 --> binário"
   ]
  },
  {
   "cell_type": "code",
   "execution_count": 24,
   "metadata": {},
   "outputs": [
    {
     "name": "stdin",
     "output_type": "stream",
     "text": [
      "Entre com um número inteiro:  123\n"
     ]
    },
    {
     "name": "stdout",
     "output_type": "stream",
     "text": [
      "PUSH 1\n",
      "PUSH 1\n",
      "PUSH 0\n",
      "PUSH 1\n",
      "PUSH 1\n",
      "PUSH 1\n",
      "PUSH 1\n",
      "POP\n",
      "POP\n",
      "POP\n",
      "POP\n",
      "POP\n",
      "POP\n",
      "POP\n",
      "O valor 123 em binário é: 1111011\n"
     ]
    }
   ],
   "source": [
    "# TESTANDO\n",
    "n = int(input('Entre com um número inteiro: '))\n",
    "print(f\"O valor {n} em binário é: {decimal_binario(n)}\") "
   ]
  },
  {
   "cell_type": "markdown",
   "metadata": {},
   "source": [
    "### Fim Teoria Aula 6"
   ]
  }
 ],
 "metadata": {
  "colab": {
   "provenance": []
  },
  "kernelspec": {
   "display_name": "Python 3 (ipykernel)",
   "language": "python",
   "name": "python3"
  },
  "language_info": {
   "codemirror_mode": {
    "name": "ipython",
    "version": 3
   },
   "file_extension": ".py",
   "mimetype": "text/x-python",
   "name": "python",
   "nbconvert_exporter": "python",
   "pygments_lexer": "ipython3",
   "version": "3.12.4"
  }
 },
 "nbformat": 4,
 "nbformat_minor": 4
}
